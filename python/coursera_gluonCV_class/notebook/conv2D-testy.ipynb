{
 "cells": [
  {
   "cell_type": "code",
   "execution_count": null,
   "metadata": {},
   "outputs": [],
   "source": [
    "%%bash\n",
    "pip install --upgrade mxnet gluoncv\n",
    "# optional - for displaying the image in notebook\n",
    "pip install ipyplot\n",
    "# After you run this cell, you need to restart\n",
    "# the notebook"
   ]
  },
  {
   "cell_type": "code",
   "execution_count": 1,
   "metadata": {},
   "outputs": [],
   "source": [
    "import gluoncv as gcv\n",
    "import mxnet as mx\n",
    "# mxnet NDarray \n",
    "from mxnet import nd\n",
    "\n",
    "# MXNet Gluon Neural network layers.\n",
    "from mxnet.gluon import nn\n",
    "\n",
    "# optional for displaying the image\n",
    "import ipyplot\n",
    "import matplotlib.pyplot as plt\n",
    "import numpy as np"
   ]
  },
  {
   "cell_type": "markdown",
   "metadata": {},
   "source": [
    "# Load and display the image.  \n",
    "Since matplotlib needs a parameter to show image in grayscale and two different mxnet routines can be\n",
    "used to load an image both are shown."
   ]
  },
  {
   "cell_type": "code",
   "execution_count": 2,
   "metadata": {},
   "outputs": [
    {
     "data": {
      "text/html": [
       "<div style=\"display: inline-block; width: 320px; vertical-align: top; text-align: center;\"><h4 style=\"font-size: 12px\">0</h4><h4 style=\"font-size: 9px; padding-left: 10px; padding-right: 10px; width: 90%; word-wrap: break-word; white-space: normal;\">testy-grid.png</h4><img src=\"testy-grid.png\" style=\"margin: 1px; width: 300px; border: 2px solid #ddd;\"/></div>"
      ],
      "text/plain": [
       "<IPython.core.display.HTML object>"
      ]
     },
     "metadata": {},
     "output_type": "display_data"
    }
   ],
   "source": [
    "# display via python\n",
    "image_filepath = 'testy-grid.png'\n",
    "img_filename_array = np.array([image_filepath])\n",
    "ipyplot.plot_images(img_filename_array)"
   ]
  },
  {
   "cell_type": "markdown",
   "metadata": {},
   "source": [
    "Using markdown show the file also\n",
    "```\n",
    "Markdown method with scaling parameter.\n",
    "<img src=\"some_file.some_ext\" width=\"400\">\n",
    "```\n",
    "<img src=\"testy-grid.png\" width=\"200\">"
   ]
  },
  {
   "cell_type": "code",
   "execution_count": 19,
   "metadata": {},
   "outputs": [
    {
     "data": {
      "image/png": "[encoded data removed]",
      "text/plain": [
       "<Figure size 432x288 with 1 Axes>"
      ]
     },
     "metadata": {
      "needs_background": "light"
     },
     "output_type": "display_data"
    }
   ],
   "source": [
    "o = plt.imshow(plt.imread('testy-grid.png'))"
   ]
  },
  {
   "cell_type": "code",
   "execution_count": 20,
   "metadata": {},
   "outputs": [
    {
     "name": "stdout",
     "output_type": "stream",
     "text": [
      "image_HWC1\n",
      "<class 'mxnet.ndarray.ndarray.NDArray'>\n",
      "(480, 640, 1)\n",
      "image_HWC1f\n",
      "<class 'mxnet.ndarray.ndarray.NDArray'>\n",
      "(480, 640, 1)\n"
     ]
    }
   ],
   "source": [
    "# read as grayscale\n",
    "image_HWC1 = mx.image.imread('testy-grid.png', 0)\n",
    "image_HWC1f = image_HWC1.astype('float32')\n",
    "print(\"image_HWC1\")\n",
    "print(type(image_HWC1))\n",
    "print(image_HWC1.shape)\n",
    "print(\"image_HWC1f\")\n",
    "print(type(image_HWC1f))\n",
    "print(image_HWC1f.shape)\n",
    "# plot image as grayscale\n",
    "#plt.imshow(image_HWC1.asnumpy(), cmap='gray')"
   ]
  },
  {
   "cell_type": "code",
   "execution_count": 27,
   "metadata": {},
   "outputs": [
    {
     "name": "stdout",
     "output_type": "stream",
     "text": [
      "image_HWC3\n",
      "<class 'mxnet.ndarray.ndarray.NDArray'>\n",
      "(480, 640, 3)\n"
     ]
    },
    {
     "data": {
      "text/plain": [
       "<matplotlib.image.AxesImage at 0x7f12c4a5c978>"
      ]
     },
     "execution_count": 27,
     "metadata": {},
     "output_type": "execute_result"
    },
    {
     "data": {
      "image/png": "[encoded data removed]",
      "text/plain": [
       "<Figure size 432x288 with 1 Axes>"
      ]
     },
     "metadata": {
      "needs_background": "light"
     },
     "output_type": "display_data"
    }
   ],
   "source": [
    "# Load Image\n",
    "image_HWC3 = mx.image.image.imread('testy-grid.png')\n",
    "print(\"image_HWC3\")\n",
    "print(type(image_HWC3))\n",
    "print(image_HWC3.shape)\n",
    "# plot Image\n",
    "plt.imshow(image_HWC3.asnumpy())"
   ]
  },
  {
   "cell_type": "markdown",
   "metadata": {},
   "source": [
    "# Build a neural net layer which is 2D convolution"
   ]
  },
  {
   "cell_type": "code",
   "execution_count": 28,
   "metadata": {},
   "outputs": [
    {
     "data": {
      "text/plain": [
       "Conv2D(1 -> 1, kernel_size=(6, 6), stride=(1, 1), Activation(relu))"
      ]
     },
     "execution_count": 28,
     "metadata": {},
     "output_type": "execute_result"
    }
   ],
   "source": [
    "# orig layer = nn.Conv2D(channels=1, kernel_size=(3,3), in_channels=1, strides=(1,1), padding=(0,0), activation='relu', prefix='conv_')\n",
    "layer = nn.Conv2D(channels=1, kernel_size=(6,6), in_channels=1, strides=(1,1), padding=(0,0), activation='relu', prefix='conv_')\n",
    "layer"
   ]
  },
  {
   "cell_type": "code",
   "execution_count": 29,
   "metadata": {},
   "outputs": [],
   "source": [
    "# Using what he calls Sobel vertical\n",
    "layer.initialize(mx.init.Constant([\n",
    "    [1,1,1,1,1,1],\n",
    "    [0,0,0,0,0,1],\n",
    "    [0,0,0,0,0,0],\n",
    "    [-2,0,0,0,0,2],\n",
    "    [0,0,0,0,0,1],\n",
    "    [1,1,1,1,1,1]]\n",
    "))\n",
    "\n",
    "# orig\n",
    "#layer.initialize(mx.init.Constant([\n",
    "#    [-1,0,1],\n",
    "#    [-2,0,2],\n",
    "#    [-1,0,1]]\n",
    "#))"
   ]
  },
  {
   "cell_type": "markdown",
   "metadata": {},
   "source": [
    "# Apply transform"
   ]
  },
  {
   "cell_type": "code",
   "execution_count": 30,
   "metadata": {},
   "outputs": [
    {
     "name": "stdout",
     "output_type": "stream",
     "text": [
      "(1, 1, 480, 640)\n"
     ]
    }
   ],
   "source": [
    "# So that its channel first. I would callthis variable image_CHW or image_CHWf\n",
    "image_channel_first = image_HWC1f.transpose((2,0,1))\n",
    "# Convert 3D to 4D with leading batch channel.  I would call this variable image_NCHW\n",
    "image_batchified = image_channel_first.expand_dims(axis=0)\n",
    "# Now its in NCHW format\n",
    "print(image_batchified.shape)"
   ]
  },
  {
   "cell_type": "code",
   "execution_count": 31,
   "metadata": {},
   "outputs": [],
   "source": [
    "output = layer(image_batchified)"
   ]
  },
  {
   "cell_type": "code",
   "execution_count": 32,
   "metadata": {},
   "outputs": [
    {
     "data": {
      "image/png": "[encoded data removed]",
      "text/plain": [
       "<Figure size 432x288 with 1 Axes>"
      ]
     },
     "metadata": {
      "needs_background": "light"
     },
     "output_type": "display_data"
    }
   ],
   "source": [
    "o = plt.imshow(output.squeeze().asnumpy(), cmap='gray')"
   ]
  },
  {
   "cell_type": "markdown",
   "metadata": {},
   "source": [
    "# Notes about results\n",
    "Vertical edges are detected with the exception of edges which are wider than the kernel width?  Odd, because below even the wide horizontal stripes are detected?"
   ]
  },
  {
   "cell_type": "markdown",
   "metadata": {},
   "source": [
    "# Redo with different kernels"
   ]
  },
  {
   "cell_type": "markdown",
   "metadata": {},
   "source": [
    "### Sobel Vertical Wikipedia"
   ]
  },
  {
   "cell_type": "markdown",
   "metadata": {},
   "source": [
    "# create a nn\n",
    "layer = nn.Conv2D(channels=1, kernel_size=(3,3), in_channels=1, strides=(1,1), padding=(0,0), activation='relu', prefix='conv_')\n",
    "\n",
    "# Using the wikipedia Sobel vertical kernel\n",
    "layer.initialize(mx.init.Constant([\n",
    "    [1,0,-1],\n",
    "    [2,0,-2],\n",
    "    [1,0,-1]]\n",
    "))\n",
    "# So that its channel first. \n",
    "image_CHWf = image_HWC1f.transpose((2,0,1))\n",
    "# Convert 3D to 4D with leading batch channel.  \n",
    "image_NCHWf = image_CHWf.expand_dims(axis=0)\n",
    "# Now its in NCHW format\n",
    "output = layer(image_NCHWf)\n",
    "# output is a 4D tensor in NCHW format\n",
    "# Use squeeze to remove any 1-D dimension\n",
    "result_numpy_HWC = output.squeeze().asnumpy()\n",
    "# Return to \n",
    "plt.imshow(result_numpy_HWC, cmap='gray')"
   ]
  },
  {
   "cell_type": "markdown",
   "metadata": {},
   "source": [
    "### Sobel Horizontal Wikipedia"
   ]
  },
  {
   "cell_type": "code",
   "execution_count": 12,
   "metadata": {},
   "outputs": [
    {
     "name": "stdout",
     "output_type": "stream",
     "text": [
      "\n",
      "Sobel horizontal transform Gx\n",
      "[[ 1.  2.  1.]\n",
      " [ 0.  0.  0.]\n",
      " [-1. -2. -1.]]\n",
      "<NDArray 3x3 @cpu(0)>\n"
     ]
    },
    {
     "data": {
      "text/plain": [
       "<matplotlib.image.AxesImage at 0x7f9c448f9ba8>"
      ]
     },
     "execution_count": 12,
     "metadata": {},
     "output_type": "execute_result"
    },
    {
     "data": {
      "image/png": "[encoded data removed]",
      "text/plain": [
       "<Figure size 432x288 with 1 Axes>"
      ]
     },
     "metadata": {},
     "output_type": "display_data"
    }
   ],
   "source": [
    "# The wikipedia Sobel horizontal kernel\n",
    "sobel_horizontal = nd.array((\n",
    "    ( 1,  2,  1),\n",
    "    ( 0,  0,  0),\n",
    "    (-1, -2, -1)\n",
    "))\n",
    "\n",
    "print(\"\\nSobel horizontal transform Gx\", end='')\n",
    "print(sobel_horizontal)\n",
    "\n",
    "# create a weight constant\n",
    "w = mx.init.Constant(sobel_horizontal)\n",
    "\n",
    "# create a nn. You need to do this.  Calling the layer.initialize() function below\n",
    "# will not update the filter without it?\n",
    "layer = nn.Conv2D(channels=1, kernel_size=(3,3), in_channels=1, strides=(1,1), padding=(0,0), activation='relu', prefix='conv_')\n",
    "\n",
    "# init layer with this constant\n",
    "layer.initialize(w)\n",
    "\n",
    "# So that its channel first. \n",
    "image_CHWf = image_HWC1f.transpose((2,0,1))\n",
    "# Convert 3D to 4D with leading batch channel.  \n",
    "image_NCHWf = image_CHWf.expand_dims(axis=0)\n",
    "# Now its in NCHW format\n",
    "output = layer(image_NCHWf)\n",
    "# output is a 4D tensor in NCHW format\n",
    "# Use squeeze to remove any 1-D dimension\n",
    "result_numpy_HWC = output.squeeze().asnumpy()\n",
    "# show result\n",
    "plt.imshow(result_numpy_HWC, cmap='gray')"
   ]
  },
  {
   "cell_type": "markdown",
   "metadata": {},
   "source": [
    "### Matrix Transforms and Sobel "
   ]
  },
  {
   "cell_type": "code",
   "execution_count": 35,
   "metadata": {},
   "outputs": [
    {
     "name": "stdout",
     "output_type": "stream",
     "text": [
      "\n",
      "Sobel vertical transform Gx\n",
      "[[ 1.  0. -1.]\n",
      " [ 2.  0. -2.]\n",
      " [ 1.  0. -1.]]\n",
      "<NDArray 3x3 @cpu(0)>\n",
      "\n",
      "Kernel to apply\n",
      "[[ 1.  2.  1.]\n",
      " [ 0.  0.  0.]\n",
      " [-1. -2. -1.]]\n",
      "<NDArray 3x3 @cpu(0)>\n"
     ]
    },
    {
     "data": {
      "text/plain": [
       "<matplotlib.image.AxesImage at 0x7f12c48ed5c0>"
      ]
     },
     "execution_count": 35,
     "metadata": {},
     "output_type": "execute_result"
    },
    {
     "data": {
      "image/png": "[encoded data removed]",
      "text/plain": [
       "<Figure size 432x288 with 1 Axes>"
      ]
     },
     "metadata": {
      "needs_background": "light"
     },
     "output_type": "display_data"
    }
   ],
   "source": [
    "# Rather than using the horizontal kernel, just rotate the vertical\n",
    "# First specify, the wikipedia Sobel vertical kernel\n",
    "# Note because I intend to do multiplication, I can't init\n",
    "# using the Constant.  I will use mxnet.initializer.Constant() when\n",
    "# I am finished so I can use for initial weights of the neural network.\n",
    "#foo = mx.init.Constant([\n",
    "#    [1,0,-1],\n",
    "#    [2,0,-2],\n",
    "#    [1,0,-1]])\n",
    "#foo.dumps()\n",
    "sobel_vertical = nd.array((\n",
    "    (1,0,-1),\n",
    "    (2,0,-2),\n",
    "    (1,0,-1)\n",
    "))\n",
    "\n",
    "print(\"\\nSobel vertical transform Gx\", end='')\n",
    "print(sobel_vertical)\n",
    "\n",
    "# Horizontal is just the vertical transposed.\n",
    "sobel_horizontal = sobel_vertical.T\n",
    "\n",
    "k =  sobel_horizontal\n",
    "\n",
    "print(\"\\nKernel to apply\", end='')\n",
    "print(k)\n",
    "\n",
    "\n",
    "# create a weight constant\n",
    "w = mx.init.Constant(k)\n",
    "\n",
    "# create a nn\n",
    "layer = nn.Conv2D(channels=1, kernel_size=(3,3), in_channels=1, strides=(1,1), padding=(0,0), activation='relu', prefix='conv_')\n",
    "\n",
    "# init layer with this constant\n",
    "layer.initialize(w)\n",
    "\n",
    "# So that its channel first. \n",
    "image_CHWf = image_HWC1f.transpose((2,0,1))\n",
    "# Convert 3D to 4D with leading batch channel.  \n",
    "image_NCHWf = image_CHWf.expand_dims(axis=0)\n",
    "# Now its in NCHW format\n",
    "# apply the transform\n",
    "output = layer(image_NCHWf)\n",
    "# output is a 4D tensor in NCHW format\n",
    "# Use squeeze to remove any 1-D dimension\n",
    "result_numpy_HWC = output.squeeze().asnumpy()\n",
    "# Show transformed image\n",
    "plt.imshow(result_numpy_HWC, cmap='gray')"
   ]
  },
  {
   "cell_type": "code",
   "execution_count": null,
   "metadata": {},
   "outputs": [],
   "source": []
  },
  {
   "cell_type": "code",
   "execution_count": 36,
   "metadata": {},
   "outputs": [
    {
     "name": "stdout",
     "output_type": "stream",
     "text": [
      "\n",
      "Kernel to apply\n",
      "[[ 1.  0. -1.]\n",
      " [-1.  0.  1.]\n",
      " [ 2.  0. -2.]]\n",
      "<NDArray 3x3 @cpu(0)>\n"
     ]
    }
   ],
   "source": [
    "# playing with transforms\n",
    "#\n",
    "# https://en.wikipedia.org/wiki/Rotation_matrix\n",
    "#\n",
    "\n",
    "# Before I realized the vertical to horizontal was \n",
    "# just a simple transpose, I was trying to rotate\n",
    "# the matrix.  \n",
    "#\n",
    "# The link above has 1D vector multiplied by a 3x3 matrix to \n",
    "# to rotate the 2 d vector.  I was mistakenly trying to do this\n",
    "# with a 3x3 multiplied by a 3x3.\n",
    "\n",
    "# Here are portions of that code for frobbing later.\n",
    "\n",
    "# Rotate by 90 degrees to obtain Horizontal\n",
    "# By default, rotation is specified positive as CCW\n",
    "#angle = 90\n",
    "#rotation = mx.init.Constant([\n",
    "#    [1,0,1],\n",
    "#    [0,1,0],\n",
    "#    [0,0,1]\n",
    "#])\n",
    "# Common Rotations\n",
    "rotation_0 = nd.array((\n",
    "    (1,0,0),\n",
    "    (0,1,0),\n",
    "    (0,0,1)\n",
    "))\n",
    "rotation_90_x = nd.array((\n",
    "    (  1,  0,  0),\n",
    "    (  0,  0, -1),\n",
    "    (  0,  1,  0)\n",
    "))\n",
    "rotation_90_y = nd.array((\n",
    "    (  0,  0,  1),\n",
    "    (  0,  1,  0),\n",
    "    ( -1,  0,  0)\n",
    "))\n",
    "rotation_90_z = nd.array((\n",
    "    (  0, -1,  0),\n",
    "    (  1,  0,  0),\n",
    "    (  0,  0,  1)\n",
    "))\n",
    "\n",
    "#rotation = rotation_90_try2\n",
    "#print(\"\\nChose rotation matrix\", end='')\n",
    "#print(rotation)\n",
    "#k = rotation_90_x * sobel_vertical\n",
    "#k = nd.dot(rotation_90_x, sobel_vertical)\n",
    "#k = rotation_90_x * sobel_vertical.T\n",
    "#k = nd.dot(rotation_90_x, sobel_vertical.T)\n",
    "\n",
    "#k = rotation_90_y * sobel_vertical\n",
    "#k = nd.dot(rotation_90_y, sobel_vertical)\n",
    "#k = rotation_90_y * sobel_vertical.T\n",
    "# this one came close\n",
    "#k = nd.dot(rotation_90_y, sobel_vertical.T)\n",
    "\n",
    "#k = rotation_90_z * sobel_vertical\n",
    "#k = nd.dot(rotation_90_z, sobel_vertical)\n",
    "#k = rotation_90_z * sobel_vertical.T\n",
    "# this one came close\n",
    "#k = nd.dot(rotation_90_z, sobel_vertical.T)\n",
    "\n",
    "\n",
    "k = nd.dot(rotation_90_x, sobel_vertical)\n",
    "print(\"\\nKernel to apply\", end='')\n",
    "print(k)\n",
    "k = nd.dot(rotation_90_x, k.T)"
   ]
  },
  {
   "cell_type": "code",
   "execution_count": 37,
   "metadata": {},
   "outputs": [
    {
     "data": {
      "text/plain": [
       "\n",
       "[[ 1. -1.  2.]\n",
       " [ 1. -1.  2.]\n",
       " [ 0.  0.  0.]]\n",
       "<NDArray 3x3 @cpu(0)>"
      ]
     },
     "execution_count": 37,
     "metadata": {},
     "output_type": "execute_result"
    }
   ],
   "source": [
    "k"
   ]
  },
  {
   "cell_type": "code",
   "execution_count": null,
   "metadata": {},
   "outputs": [],
   "source": []
  }
 ],
 "metadata": {
  "kernelspec": {
   "display_name": "Python 3 (ipykernel)",
   "language": "python",
   "name": "python3"
  },
  "language_info": {
   "codemirror_mode": {
    "name": "ipython",
    "version": 3
   },
   "file_extension": ".py",
   "mimetype": "text/x-python",
   "name": "python",
   "nbconvert_exporter": "python",
   "pygments_lexer": "ipython3",
   "version": "3.7.2"
  }
 },
 "nbformat": 4,
 "nbformat_minor": 4
}
