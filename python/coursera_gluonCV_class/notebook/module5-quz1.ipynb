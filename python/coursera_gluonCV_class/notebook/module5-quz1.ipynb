{
 "cells": [
  {
   "cell_type": "code",
   "execution_count": 1,
   "metadata": {},
   "outputs": [
    {
     "name": "stdout",
     "output_type": "stream",
     "text": [
      "Collecting mxnet\n",
      "  Downloading https://files.pythonhosted.org/packages/81/f5/d79b5b40735086ff1100c680703e0f3efc830fa455e268e9e96f3c857e93/mxnet-1.6.0-py2.py3-none-any.whl (68.7MB)\n",
      "Collecting gluoncv\n",
      "  Downloading https://files.pythonhosted.org/packages/fa/81/37a00609cb53da3671adb106b9bc03fb1c029ad5a8db4bc668283e65703d/gluoncv-0.7.0-py2.py3-none-any.whl (752kB)\n",
      "Requirement not upgraded as not directly required: graphviz<0.9.0,>=0.8.1 in /home/ec2-user/anaconda3/envs/mxnet_p36/lib/python3.6/site-packages (from mxnet) (0.8.4)\n",
      "Requirement not upgraded as not directly required: requests<3,>=2.20.0 in /home/ec2-user/anaconda3/envs/mxnet_p36/lib/python3.6/site-packages (from mxnet) (2.20.0)\n",
      "Requirement not upgraded as not directly required: numpy<2.0.0,>1.16.0 in /home/ec2-user/anaconda3/envs/mxnet_p36/lib/python3.6/site-packages (from mxnet) (1.16.4)\n",
      "Collecting tqdm (from gluoncv)\n",
      "  Downloading https://files.pythonhosted.org/packages/46/62/7663894f67ac5a41a0d8812d78d9d2a9404124051885af9d77dc526fb399/tqdm-4.47.0-py2.py3-none-any.whl (66kB)\n",
      "Requirement not upgraded as not directly required: Pillow in /home/ec2-user/anaconda3/envs/mxnet_p36/lib/python3.6/site-packages (from gluoncv) (5.1.0)\n",
      "Requirement not upgraded as not directly required: matplotlib in /home/ec2-user/anaconda3/envs/mxnet_p36/lib/python3.6/site-packages (from gluoncv) (3.0.3)\n",
      "Collecting portalocker (from gluoncv)\n",
      "  Downloading https://files.pythonhosted.org/packages/53/84/7b3146ec6378d28abc73ab484f09f47dfa008ad6f03f33d90a369f880e25/portalocker-1.7.0-py2.py3-none-any.whl\n",
      "Requirement not upgraded as not directly required: scipy in /home/ec2-user/anaconda3/envs/mxnet_p36/lib/python3.6/site-packages (from gluoncv) (1.2.1)\n",
      "Requirement not upgraded as not directly required: idna<2.8,>=2.5 in /home/ec2-user/anaconda3/envs/mxnet_p36/lib/python3.6/site-packages (from requests<3,>=2.20.0->mxnet) (2.6)\n",
      "Requirement not upgraded as not directly required: chardet<3.1.0,>=3.0.2 in /home/ec2-user/anaconda3/envs/mxnet_p36/lib/python3.6/site-packages (from requests<3,>=2.20.0->mxnet) (3.0.4)\n",
      "Requirement not upgraded as not directly required: certifi>=2017.4.17 in /home/ec2-user/anaconda3/envs/mxnet_p36/lib/python3.6/site-packages (from requests<3,>=2.20.0->mxnet) (2019.11.28)\n",
      "Requirement not upgraded as not directly required: urllib3<1.25,>=1.21.1 in /home/ec2-user/anaconda3/envs/mxnet_p36/lib/python3.6/site-packages (from requests<3,>=2.20.0->mxnet) (1.23)\n",
      "Requirement not upgraded as not directly required: pyparsing!=2.0.4,!=2.1.2,!=2.1.6,>=2.0.1 in /home/ec2-user/anaconda3/envs/mxnet_p36/lib/python3.6/site-packages (from matplotlib->gluoncv) (2.2.0)\n",
      "Requirement not upgraded as not directly required: kiwisolver>=1.0.1 in /home/ec2-user/anaconda3/envs/mxnet_p36/lib/python3.6/site-packages (from matplotlib->gluoncv) (1.0.1)\n",
      "Requirement not upgraded as not directly required: python-dateutil>=2.1 in /home/ec2-user/anaconda3/envs/mxnet_p36/lib/python3.6/site-packages (from matplotlib->gluoncv) (2.7.3)\n",
      "Requirement not upgraded as not directly required: cycler>=0.10 in /home/ec2-user/anaconda3/envs/mxnet_p36/lib/python3.6/site-packages (from matplotlib->gluoncv) (0.10.0)\n",
      "Requirement not upgraded as not directly required: setuptools in /home/ec2-user/anaconda3/envs/mxnet_p36/lib/python3.6/site-packages (from kiwisolver>=1.0.1->matplotlib->gluoncv) (39.1.0)\n",
      "Requirement not upgraded as not directly required: six>=1.5 in /home/ec2-user/anaconda3/envs/mxnet_p36/lib/python3.6/site-packages (from python-dateutil>=2.1->matplotlib->gluoncv) (1.11.0)\n",
      "Installing collected packages: mxnet, tqdm, portalocker, gluoncv\n",
      "Successfully installed gluoncv-0.7.0 mxnet-1.6.0 portalocker-1.7.0 tqdm-4.47.0\n",
      "Collecting ipyplot\n",
      "  Downloading https://files.pythonhosted.org/packages/c8/79/73a14a6d2727555a14c62b9acb97c8f2624d6d878d9964054f2f039f6a7a/ipyplot-1.0.5-py3-none-any.whl\n",
      "Requirement already satisfied: IPython in /home/ec2-user/anaconda3/envs/mxnet_p36/lib/python3.6/site-packages (from ipyplot) (6.4.0)\n",
      "Requirement already satisfied: numpy in /home/ec2-user/anaconda3/envs/mxnet_p36/lib/python3.6/site-packages (from ipyplot) (1.16.4)\n",
      "Requirement already satisfied: pillow in /home/ec2-user/anaconda3/envs/mxnet_p36/lib/python3.6/site-packages (from ipyplot) (5.1.0)\n",
      "Requirement already satisfied: simplegeneric>0.8 in /home/ec2-user/anaconda3/envs/mxnet_p36/lib/python3.6/site-packages (from IPython->ipyplot) (0.8.1)\n",
      "Requirement already satisfied: pexpect; sys_platform != \"win32\" in /home/ec2-user/anaconda3/envs/mxnet_p36/lib/python3.6/site-packages (from IPython->ipyplot) (4.5.0)\n",
      "Requirement already satisfied: jedi>=0.10 in /home/ec2-user/anaconda3/envs/mxnet_p36/lib/python3.6/site-packages (from IPython->ipyplot) (0.12.0)\n",
      "Requirement already satisfied: prompt-toolkit<2.0.0,>=1.0.15 in /home/ec2-user/anaconda3/envs/mxnet_p36/lib/python3.6/site-packages (from IPython->ipyplot) (1.0.15)\n",
      "Requirement already satisfied: pickleshare in /home/ec2-user/anaconda3/envs/mxnet_p36/lib/python3.6/site-packages (from IPython->ipyplot) (0.7.4)\n",
      "Requirement already satisfied: backcall in /home/ec2-user/anaconda3/envs/mxnet_p36/lib/python3.6/site-packages (from IPython->ipyplot) (0.1.0)\n",
      "Requirement already satisfied: pygments in /home/ec2-user/anaconda3/envs/mxnet_p36/lib/python3.6/site-packages (from IPython->ipyplot) (2.2.0)\n",
      "Requirement already satisfied: decorator in /home/ec2-user/anaconda3/envs/mxnet_p36/lib/python3.6/site-packages (from IPython->ipyplot) (4.3.0)\n",
      "Requirement already satisfied: setuptools>=18.5 in /home/ec2-user/anaconda3/envs/mxnet_p36/lib/python3.6/site-packages (from IPython->ipyplot) (39.1.0)\n",
      "Requirement already satisfied: traitlets>=4.2 in /home/ec2-user/anaconda3/envs/mxnet_p36/lib/python3.6/site-packages (from IPython->ipyplot) (4.3.2)\n",
      "Requirement already satisfied: ptyprocess>=0.5 in /home/ec2-user/anaconda3/envs/mxnet_p36/lib/python3.6/site-packages (from pexpect; sys_platform != \"win32\"->IPython->ipyplot) (0.5.2)\n",
      "Requirement already satisfied: parso>=0.2.0 in /home/ec2-user/anaconda3/envs/mxnet_p36/lib/python3.6/site-packages (from jedi>=0.10->IPython->ipyplot) (0.2.0)\n",
      "Requirement already satisfied: six>=1.9.0 in /home/ec2-user/anaconda3/envs/mxnet_p36/lib/python3.6/site-packages (from prompt-toolkit<2.0.0,>=1.0.15->IPython->ipyplot) (1.11.0)\n",
      "Requirement already satisfied: wcwidth in /home/ec2-user/anaconda3/envs/mxnet_p36/lib/python3.6/site-packages (from prompt-toolkit<2.0.0,>=1.0.15->IPython->ipyplot) (0.1.7)\n",
      "Requirement already satisfied: ipython_genutils in /home/ec2-user/anaconda3/envs/mxnet_p36/lib/python3.6/site-packages (from traitlets>=4.2->IPython->ipyplot) (0.2.0)\n",
      "Installing collected packages: ipyplot\n",
      "Successfully installed ipyplot-1.0.5\n"
     ]
    },
    {
     "name": "stderr",
     "output_type": "stream",
     "text": [
      "You are using pip version 10.0.1, however version 20.2b1 is available.\n",
      "You should consider upgrading via the 'pip install --upgrade pip' command.\n",
      "You are using pip version 10.0.1, however version 20.2b1 is available.\n",
      "You should consider upgrading via the 'pip install --upgrade pip' command.\n"
     ]
    }
   ],
   "source": [
    "%%bash\n",
    "pip install --upgrade mxnet gluoncv\n",
    "# optional - for displaying the image in notebook\n",
    "pip install ipyplot\n",
    "# After you run this cell, you need to restart\n",
    "# the notebook"
   ]
  },
  {
   "cell_type": "code",
   "execution_count": 1,
   "metadata": {},
   "outputs": [],
   "source": [
    "import mxnet as mx\n",
    "import gluoncv as gcv\n",
    "import matplotlib.pyplot as plt\n",
    "import numpy as np\n",
    "import os\n",
    "from pathlib import Path"
   ]
  },
  {
   "cell_type": "code",
   "execution_count": 2,
   "metadata": {},
   "outputs": [
    {
     "name": "stdout",
     "output_type": "stream",
     "text": [
      "\n",
      "[[4. 0.]\n",
      " [0. 4.]]\n",
      "<NDArray 2x2 @cpu(0)>\n"
     ]
    }
   ],
   "source": [
    "from mxnet import nd, autograd\n",
    "\n",
    "x = nd.array([[1, 0], [0, 1]])\n",
    "y = nd.array([[1, 1], [1, 1]])\n",
    "x.attach_grad()\n",
    "y.attach_grad()\n",
    "f = lambda x,y : x**2 + y**2\n",
    "with autograd.record():\n",
    "    z = f(x, y)\n",
    "z.backward()\n",
    "print(x.grad * y.grad)"
   ]
  },
  {
   "cell_type": "code",
   "execution_count": null,
   "metadata": {},
   "outputs": [],
   "source": []
  }
 ],
 "metadata": {
  "kernelspec": {
   "display_name": "conda_mxnet_p36",
   "language": "python",
   "name": "conda_mxnet_p36"
  },
  "language_info": {
   "codemirror_mode": {
    "name": "ipython",
    "version": 3
   },
   "file_extension": ".py",
   "mimetype": "text/x-python",
   "name": "python",
   "nbconvert_exporter": "python",
   "pygments_lexer": "ipython3",
   "version": "3.6.10"
  }
 },
 "nbformat": 4,
 "nbformat_minor": 4
}
